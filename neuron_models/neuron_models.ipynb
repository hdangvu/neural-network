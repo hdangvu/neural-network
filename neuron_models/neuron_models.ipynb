{
 "cells": [
  {
   "cell_type": "markdown",
   "metadata": {},
   "source": "# Neuron Models"
  },
  {
   "cell_type": "code",
   "metadata": {
    "ExecuteTime": {
     "end_time": "2024-05-09T20:18:47.480037Z",
     "start_time": "2024-05-09T20:18:47.189790Z"
    }
   },
   "source": [
    "import numpy as np\n",
    "import matplotlib.pyplot as plt"
   ],
   "outputs": [],
   "execution_count": 1
  },
  {
   "cell_type": "markdown",
   "metadata": {
    "heading_collapsed": true
   },
   "source": [
    "# Helper functions"
   ]
  },
  {
   "cell_type": "code",
   "metadata": {
    "hidden": true,
    "ExecuteTime": {
     "end_time": "2024-05-09T20:18:47.489951Z",
     "start_time": "2024-05-09T20:18:47.481048Z"
    }
   },
   "source": [
    "def generate_spike_train(times_rates, jitter=0.):\n",
    "    '''\n",
    "    spike_times = generate_spike_train(times_rates, T)\n",
    "    \n",
    "    Creates a spike train (as an array of time stamps).\n",
    "    \n",
    "    Input:\n",
    "    times_rates is an array or list of (t,r) pairs, so that the\n",
    "        firing rate is changed to r (Hz) at time t (seconds).\n",
    "        If the last firing rate is not zero, the last interval is\n",
    "        extended for 1s, and then the rate goes to zero.\n",
    "    jitter is a scalar that determines how much the spikes\n",
    "        are randomly moved\n",
    "        \n",
    "    Output:\n",
    "    spike_times is an array of times when spikes occurred\n",
    "    \n",
    "    Example: To create a spike train of 10Hz for 0.5s, followed\n",
    "             by 25Hz that starts at 0.5s and ends at 2s, use\n",
    "             \n",
    "             s = generate_spike_train([[0.,10], [0.5,25], [2,0]])\n",
    "    '''\n",
    "    s = []\n",
    "    tr = list(times_rates)\n",
    "    rate_last = tr[-1][1]\n",
    "    # Make sure it ends with a zero\n",
    "    if rate_last != 0.:\n",
    "        # If the last rate was not zero, extend for 1s and then set to 0.\n",
    "        tr.append([tr[-1][0]+1., 0.])\n",
    "    t = tr[0][0]\n",
    "    for idx in range(0,len(tr)-1):\n",
    "        t_interval = tr[idx+1][0] - t\n",
    "        r = tr[idx][1]\n",
    "        if r!=0:\n",
    "            delta = 1. / r\n",
    "            N = r * t_interval\n",
    "            times = np.arange(t+delta/2., t+t_interval, delta)\n",
    "            if jitter!=0.:\n",
    "                times += np.random.normal(scale=delta*jitter, size=np.shape(times))\n",
    "            s.extend(times)\n",
    "        t = tr[idx+1][0]\n",
    "    s.sort()\n",
    "    return np.array(s)\n",
    "\n",
    "\n",
    "def plot_spike_raster(st, y_range=None):\n",
    "    '''\n",
    "    plot_spike_raster(spiketimes, y_range=[0, 1.])\n",
    "\n",
    "    Plots a spike raster plot for a list of arrays of spike times.\n",
    "\n",
    "    Input:\n",
    "      spiketimes  list of arrays of spike times\n",
    "      y_range     2-tuple that holds the y-values that the raster ticks\n",
    "                  should be drawn between\n",
    "    '''\n",
    "    N = len(st)  # number of neurons\n",
    "    \n",
    "    if y_range is None:\n",
    "        y_range = [0, N-1]\n",
    "\n",
    "    #loc = np.linspace(y_range[0], y_range[1], N)\n",
    "    loc = np.linspace(0, N-1, N)\n",
    "    if N==1:\n",
    "        bin_radius = 0.5\n",
    "    else:\n",
    "        bin_radius = ( loc[1] - loc[0] ) / 2.\n",
    "    ctr = []\n",
    "    for n in range(N):\n",
    "        nspikes = len(st[n])\n",
    "        y = [ [loc[n]-bin_radius]*nspikes , [loc[n]+bin_radius]*nspikes ]\n",
    "        plt.plot(np.vstack((st[n],st[n])), y, color=np.random.rand(3))\n",
    "    plt.ylim([y_range[0]-bin_radius, y_range[-1]+bin_radius])\n",
    "    plt.xlabel('Time (s)')\n",
    "    plt.ylabel('Neuron index')\n",
    "    return\n",
    "\n",
    "\n",
    "def spikes_between(spiketrain, t_start, t_end):\n",
    "    '''\n",
    "     numspikes = spikes_between(spiketrain, t_start, t_end)\n",
    "\n",
    "     Returns the number of times between t_start and t_end.\n",
    "     Specifically, it counts a spike if it occurred at t, where\n",
    "     t_start <= t < t_end\n",
    "    \n",
    "     Inputs:\n",
    "       spiketrain   array-like list of spike times\n",
    "       t_start      start time\n",
    "       t_end        end time\n",
    "       \n",
    "     Output:\n",
    "       numspikes    number of spikes, where t_start <= t < t_end\n",
    "    '''\n",
    "    sp_bool = np.logical_and( np.array(spiketrain)>=t_start, np.array(spiketrain)<t_end )\n",
    "    return np.sum(sp_bool)\n",
    "\n",
    "def random_array(n):\n",
    "    '''\n",
    "     w = random_array(n)\n",
    "     \n",
    "     Returns an array of n random numbers between 0 and 1.\n",
    "     Note: The values are smoothed.\n",
    "    '''\n",
    "    a = np.random.random(size=(n,))\n",
    "    b = np.zeros_like(a)\n",
    "    omega = max(min(int(n/3.), 7), 1)\n",
    "    b[:omega] = 1.\n",
    "    b /= np.sum(b)\n",
    "    return np.real(np.fft.ifft(np.fft.fft(a)*np.fft.fft(b)))"
   ],
   "outputs": [],
   "execution_count": 2
  },
  {
   "cell_type": "code",
   "metadata": {
    "hidden": true,
    "ExecuteTime": {
     "end_time": "2024-05-09T20:18:47.566025Z",
     "start_time": "2024-05-09T20:18:47.490582Z"
    }
   },
   "source": [
    "st = generate_spike_train([[0.,10], [0.5,25], [2,0]])\n",
    "plot_spike_raster([st])"
   ],
   "outputs": [
    {
     "data": {
      "text/plain": [
       "<Figure size 640x480 with 1 Axes>"
      ],
      "image/png": "[encoded data removed]"
     },
     "metadata": {},
     "output_type": "display_data"
    }
   ],
   "execution_count": 3
  },
  {
   "cell_type": "markdown",
   "metadata": {
    "heading_collapsed": true
   },
   "source": [
    "# Supposting Classes"
   ]
  },
  {
   "cell_type": "markdown",
   "metadata": {
    "hidden": true
   },
   "source": [
    "## SpikingNetwork class\n",
    "This class represents a collection of neurons and their connections to each other. Add neurons, connect them, and then simulate the network."
   ]
  },
  {
   "cell_type": "code",
   "metadata": {
    "hidden": true,
    "ExecuteTime": {
     "end_time": "2024-05-09T20:18:47.571921Z",
     "start_time": "2024-05-09T20:18:47.567656Z"
    }
   },
   "source": [
    "class SpikingNetwork():\n",
    "    \n",
    "    def __init__(self):\n",
    "        '''\n",
    "        net = SpikingNetwork()\n",
    "        \n",
    "        Constructor for SpikingNetwork class.\n",
    "        \n",
    "        The SpikingNetwork class contains a collection of neurons.\n",
    "        It also has the code to simulate the network and display\n",
    "        the resulting spike raster plots.\n",
    "        '''\n",
    "        self.neur = []         # List of neurons (of various kinds)\n",
    "        self.t_history = []    # List of time stamps for the Euler steps\n",
    "                               # (Useful for plotting)\n",
    "            \n",
    "    def add_neuron(self, neur):\n",
    "        '''\n",
    "        net.add_neuron(neuron)\n",
    "        \n",
    "        Adds a neuron to the network.\n",
    "        \n",
    "        Input:\n",
    "         neuron is an object of type LIFNeuron or InputNeuron\n",
    "        '''\n",
    "        self.neur.append(neur)\n",
    "                \n",
    "    def simulate(self, T, dt):\n",
    "        '''\n",
    "        net.simulate(T, dt)\n",
    "        \n",
    "        Simulates the network for T seconds by taking Euler steps\n",
    "        of size dt.\n",
    "        \n",
    "        Inputs:\n",
    "         T    how long to integrate for\n",
    "         dt   time step for Euler's method\n",
    "         \n",
    "        The results of the simulation are stored in the individual neuron\n",
    "        histories.\n",
    "        '''\n",
    "        \n",
    "        current = 0 if len(self.t_history)==0 else self.t_history[-1]\n",
    "        t_segment = np.arange(current, current+T, dt)\n",
    "        \n",
    "        for tt in t_segment:\n",
    "            self.t_history.append(tt)\n",
    "            \n",
    "            # Compute slopes for all neurons first...\n",
    "            for neur in self.neur:\n",
    "                neur.slope()\n",
    "                \n",
    "            # ... then update the neurons using an Euler step.\n",
    "            for neur in self.neur:\n",
    "                neur.step(dt)\n",
    "                \n",
    "    def all_spike_times(self):\n",
    "        '''\n",
    "        all_spikes = net.all_spike_times()\n",
    "        \n",
    "        Returns all the spikes of all the neurons in the network.\n",
    "        Useful for making spike-raster plots of network activity.\n",
    "        \n",
    "        Output:\n",
    "         all_spikes  a list of sublists, where each sublist holds\n",
    "                     the spike times of one of the neurons\n",
    "        '''\n",
    "        all_spikes = []\n",
    "        for neur in self.neur:\n",
    "            all_spikes.append(np.array(neur.spikes))\n",
    "        return all_spikes\n",
    "    \n",
    "    def spike_raster(self):\n",
    "        '''\n",
    "         net.spike_raster()\n",
    "         \n",
    "         Generate a spike raster plot.\n",
    "        '''\n",
    "        plot_spike_raster(self.all_spike_times())\n",
    "        xlim = plt.axis()\n",
    "        x = xlim[1]*1.01\n",
    "        for idx,n in enumerate(self.neur):\n",
    "            if n.label is not None:\n",
    "                plt.text(x, idx, n.label);"
   ],
   "outputs": [],
   "execution_count": 4
  },
  {
   "cell_type": "markdown",
   "metadata": {
    "hidden": true
   },
   "source": [
    "## InputNeuron class\n",
    "This class is for generating input to feed into a network."
   ]
  },
  {
   "cell_type": "code",
   "metadata": {
    "hidden": true,
    "ExecuteTime": {
     "end_time": "2024-05-09T20:18:47.576130Z",
     "start_time": "2024-05-09T20:18:47.572645Z"
    }
   },
   "source": [
    "class InputNeuron():\n",
    "    '''\n",
    "     A = InputNeuron(spiketrain, label=None)\n",
    "\n",
    "     Constructor for InputNeuron class.\n",
    "\n",
    "     InputNeuron is a class of neuron that can be used to inject spikes into\n",
    "     the network. When involved in a simulation, an InputNeuron will generate\n",
    "     spikes at the times specified during its construction.\n",
    "\n",
    "     Inputs:\n",
    "       spiketrain  array or list of spike times\n",
    "       label       optional string\n",
    "    '''    \n",
    "    def __init__(self, spiketrain, label=None):\n",
    "        self.t = 0.       # simulation time\n",
    "        self.spikes = np.array(spiketrain)  # 1D array of spike times\n",
    "        self.label = label   # just a simple text label\n",
    "        \n",
    "        self.axon = []    # list of outgoing connections\n",
    "        # Each connection is a 2-tuple of the form (post,w), where \"post\" is the\n",
    "        # receiving neuron, and w is the connection weight.\n",
    "        \n",
    "    def connect_to(self, post, w):\n",
    "        '''\n",
    "         A.connect_to(post, w)\n",
    "         \n",
    "         Connect an InputNeuron to another neuron with weight w.\n",
    "         \n",
    "         Inputs:\n",
    "          post  LIFNeuron to receive this neuron's spikes\n",
    "          w     weight of the connection\n",
    "          \n",
    "          Usage:\n",
    "          To connect InputNeuron A to LIFNeuron B with weight 0.1\n",
    "          > A.connect_to(B, 0.1)\n",
    "        '''\n",
    "        self.axon.append((post, w))\n",
    "\n",
    "    def slope(self):\n",
    "        # This neuron model is not governed by a DE\n",
    "        return\n",
    "    \n",
    "    def step(self, dt):\n",
    "        '''\n",
    "         A.step(dt), take a time step of length dt\n",
    "        '''\n",
    "        # How many spikes are in this time step?\n",
    "        n_spikes = spikes_between(self.spikes, self.t, self.t+dt)\n",
    "        self.t += dt\n",
    "        if n_spikes>0:\n",
    "            self.send_spike(n_spikes)\n",
    "\n",
    "    def send_spike(self, n=1):\n",
    "        '''\n",
    "         A.send_spike(n=1), send spike(s) to all connected-to neurons\n",
    "        '''\n",
    "        # Increment the incoming_spikes_buffer for each connected neuron\n",
    "        for p,w in self.axon:\n",
    "            p.incoming_spikes_buffer += n*w\n"
   ],
   "outputs": [],
   "execution_count": 5
  },
  {
   "cell_type": "markdown",
   "metadata": {},
   "source": [
    "# LIFNeuron class\n",
    "Derived from the $Neuron$ class, this class implements the Leaky Integrate-and-Fire (LIF) neuron.\n",
    "- The $slope$ function evaluates the right-hand side of the differential equations that govern the dynamics of the LIF neuron, and saves those slopes in its member variables $dvdt$ and $dsdt$.\n",
    "- The $step$ advances the neuron’s state one time step using $dvdt$ and $dsdt$."
   ]
  },
  {
   "cell_type": "code",
   "metadata": {
    "ExecuteTime": {
     "end_time": "2024-05-09T20:18:47.602963Z",
     "start_time": "2024-05-09T20:18:47.576712Z"
    }
   },
   "source": [
    "class LIFNeuron():\n",
    "\n",
    "    def __init__(self, Tau_m=0.02, Tau_ref=0.002, Tau_s=0.05, label=None):\n",
    "        '''\n",
    "         lif = LIFNeuron(Tau_m=0.02, Tau_ref=0.002, Tau_s=0.05)\n",
    "        \n",
    "         Constructor for LIFNeuron class\n",
    "        \n",
    "         Inputs:\n",
    "           Tau_m   membrane time constant, in seconds (s)\n",
    "           Tau_ref refractory period (s)\n",
    "           Tau_s   synaptic time constant (s)\n",
    "           label   optional string\n",
    "        '''\n",
    "        self.label = label      # string label\n",
    "        self.t  = 0.            # simulation time\n",
    "        self.tau_m = Tau_m      # membrane time constant\n",
    "        self.tau_ref = Tau_ref  # refractory period\n",
    "        self.tau_s = Tau_s      # synaptic time constant\n",
    "        self.v = 0.             # sub-threshold membrane potential (voltage)\n",
    "        self.s = 0.             # post-synaptic current (PSC)\n",
    "        \n",
    "        self.ref_remaining = 0. # amount of time remaining in the refractory period\n",
    "        \n",
    "        \n",
    "        self.axon = []    # list of outgoing connections\n",
    "        # Each connection is a 2-tuple of the form (post,w), where \"post\" is the\n",
    "        # receiving neuron, and w is the connection weight.\n",
    "\n",
    "        # The incoming_spikes_buffer tabulates all the spikes that arrive in a time step,\n",
    "        # weighting each incoming spike by the corresponding connection weight.\n",
    "        # This buffer simply adds together all the incoming spikes for one time step.\n",
    "        self.incoming_spikes_buffer = 0.  # weighted sum of incoming spikes (for one time step)\n",
    "        \n",
    "        # In the next time step, the incoming_spikes_buffer is injected into the input\n",
    "        # current. So we make a copy, called I, and will use it in the appropriate place\n",
    "        # on the RHS of the differential equation for s.\n",
    "        self.I = 0.             # current injected by arriving spikes\n",
    "        \n",
    "        # For plotting\n",
    "        self.v_history = []     # records v over time\n",
    "        self.s_history = []     # records s over time\n",
    "        self.spikes = []        # list of times when this neuron spiked\n",
    "    \n",
    "    def connect_to(self, post, w):\n",
    "        '''\n",
    "         lif.connect_to(post, w)\n",
    "         \n",
    "         Connect a LIF neuron to another, with weight w.\n",
    "         \n",
    "         Inputs:\n",
    "          post  LIFNeuron to receive this neuron's spikes\n",
    "          w     weight of the connection\n",
    "        '''\n",
    "        self.axon.append((post, w))\n",
    "        \n",
    "        \n",
    "    def slope(self):\n",
    "        '''\n",
    "         lif.slope()\n",
    "        \n",
    "         Evaluates the right-hand side of the differential equations that\n",
    "         govern v and s. This function does NOT include incoming spikes.\n",
    "         \n",
    "         There is no output; the method simply updates the member variables\n",
    "            self.dvdt, and\n",
    "            self.dsdt\n",
    "         which are used by the step method.\n",
    "        '''\n",
    "        # Copy the incoming_spikes_buffer, then reset it for the\n",
    "        # upcoming \"step\" process. We do this because the step process\n",
    "        # increments the incoming_spikes_buffer for neurons that\n",
    "        # receive spikes.\n",
    "        self.I = self.incoming_spikes_buffer\n",
    "        self.incoming_spikes_buffer = 0.\n",
    "        \n",
    "        #===============\n",
    "        \n",
    "        self.dvdt = (self.s-self.v)/self.tau_m  # replace these lines\n",
    "        self.dsdt = -self.s/self.tau_s\n",
    "        #===============            \n",
    "\n",
    "        \n",
    "    def step(self, dt):\n",
    "        '''\n",
    "         LIFNeuron.step(dt)\n",
    "        \n",
    "         Updates the LIF neuron state by taking an Euler step in v and s.\n",
    "         The length of the step is dt seconds.\n",
    "         \n",
    "         Input\n",
    "          dt       time step (in seconds)\n",
    "          \n",
    "         If v reaches the threshold of 1, the neuron fires an action potential\n",
    "         (spike). Linear interpolation is used to estimate the time that v=1.\n",
    "         The spike time is appended to the list self.spikes, and v\n",
    "         is set to zero. After a spike, the neuron is dormant for self.tau_ref\n",
    "         seconds.\n",
    "        '''\n",
    "        # self.I includes all the input from spikes in the last time step\n",
    "        \n",
    "        #===============\n",
    "        # Update synaptic input\n",
    "        self.s += self.dsdt * dt\n",
    "        self.s += self.I/self.tau_s\n",
    "\n",
    "        # Check if the neuron is in a refractory period\n",
    "        if (self.ref_remaining - dt) > 0:\n",
    "            # If it is, reset the membrane potential to 0\n",
    "            self.v = 0\n",
    "            self.ref_remaining -= dt\n",
    "            \n",
    "        else:\n",
    "            # For the normal case\n",
    "            if self.ref_remaining <= 0:\n",
    "                time_integrate = dt\n",
    "                \n",
    "            # Case when the refractory period ends part-way through a time step\n",
    "            else:\n",
    "                time_integrate = dt - self.ref_remaining\n",
    "                \n",
    "            # Find the start time of the integrating\n",
    "            integrate_step_start = self.t + dt - time_integrate\n",
    "            # Set ref_remaining back to 0\n",
    "            self.ref_remaining = 0\n",
    "            \n",
    "            # Store the previous membrane potential\n",
    "            prev_v = self.v\n",
    "            # Update the membrane potential using Euler's method\n",
    "            self.v += self.dvdt * time_integrate\n",
    "\n",
    "            # Check if the membrane potential has reached the threshold (1.0)\n",
    "            if self.v >= 1.0:\n",
    "                # Update time t when there is a spike\n",
    "                self.t += dt\n",
    "                \n",
    "                # If membrane potential exceeds threshold\n",
    "                if self.v > 1.0:\n",
    "                    # Send a spike to connected neurons\n",
    "                    self.send_spike()\n",
    "                    # Reset refractory period timer to tau_ref\n",
    "                    self.ref_remaining = self.tau_ref\n",
    "                    \n",
    "                    # Find slope\n",
    "                    exact_slope = ((self.v - prev_v) /\n",
    "                                   (self.t - integrate_step_start))\n",
    "                    # If the potential exceeds 1.0, interpolate to find spike time\n",
    "                    spike_time = integrate_step_start + (1.0 - prev_v) / exact_slope\n",
    "                    # Update refractory period time remaining\n",
    "                    self.ref_remaining -= (self.t - spike_time)\n",
    "                    \n",
    "                else:\n",
    "                    # No need for interpolation for this case\n",
    "                    # Send a spike to connected neurons\n",
    "                    self.send_spike()\n",
    "                    # Reset refractory period timer to tau_ref\n",
    "                    self.ref_remaining = self.tau_ref\n",
    "                    # Record spike time\n",
    "                    spike_time = self.t\n",
    "\n",
    "                # Append spike time to the list of spikes\n",
    "                self.spikes.append(spike_time)\n",
    "        \n",
    "        #===============\n",
    "\n",
    "        # Store v (for plotting), and reset incoming spike accumulator\n",
    "        self.v_history.append(self.v)\n",
    "        self.s_history.append(self.s)\n",
    "        self.t += dt     # step forward in time\n",
    "                \n",
    "    def __repr__(self):\n",
    "        '''\n",
    "         lif.print(neur)\n",
    "         \n",
    "         Prints the current time, membrane potential, input current, and\n",
    "         remaining refractory time.\n",
    "        '''\n",
    "        s = f'{self.t:6.4f}s: s={self.s:5.3f}, v={self.v:6.4f}, ref remaining={self.ref_remaining:7.5f}s'\n",
    "        return s\n",
    "    \n",
    "    def send_spike(self):\n",
    "        '''\n",
    "         lif.send_spike()\n",
    "         \n",
    "         Send a spike to all the neurons that this neuron is connected to.\n",
    "        '''\n",
    "        # Increment the incoming_spikes_buffer for each connected neuron\n",
    "        for p,w in self.axon:\n",
    "            p.incoming_spikes_buffer += w"
   ],
   "outputs": [],
   "execution_count": 6
  },
  {
   "cell_type": "markdown",
   "metadata": {},
   "source": [
    "## Tests"
   ]
  },
  {
   "cell_type": "code",
   "metadata": {
    "scrolled": true,
    "ExecuteTime": {
     "end_time": "2024-05-09T20:18:47.606482Z",
     "start_time": "2024-05-09T20:18:47.603686Z"
    }
   },
   "source": [
    "# Test current variable, s\n",
    "net = SpikingNetwork()\n",
    "# One spike at t=0, which will affect A's input current in the next time step.\n",
    "inA = InputNeuron([0.], label='inA')\n",
    "A = LIFNeuron(label='A')\n",
    "net.add_neuron(inA)     # neuron index 0\n",
    "net.add_neuron(A)       # neuron index 1\n",
    "inA.connect_to(A, 0.5)  # connect inA -> A\n",
    "net.simulate(0.002, 0.001)\n",
    "\n",
    "print(net.neur[1].s_history)\n",
    "#print(A.s_history)  # equivalent to line above\n",
    "\n",
    "print('\\nExpected output')\n",
    "print('[0.0, 10.0]')"
   ],
   "outputs": [
    {
     "name": "stdout",
     "output_type": "stream",
     "text": [
      "[0.0, 10.0]\n",
      "\n",
      "Expected output\n",
      "[0.0, 10.0]\n"
     ]
    }
   ],
   "execution_count": 7
  },
  {
   "cell_type": "code",
   "metadata": {
    "ExecuteTime": {
     "end_time": "2024-05-09T20:18:47.609340Z",
     "start_time": "2024-05-09T20:18:47.607115Z"
    }
   },
   "source": [
    "# Test interpolated spike time\n",
    "net = SpikingNetwork()\n",
    "A = LIFNeuron(label='A')\n",
    "net.add_neuron(A)\n",
    "\n",
    "# Set voltage and current so it's just about to spike.\n",
    "A.v = 0.95\n",
    "A.s = 10.\n",
    "\n",
    "net.simulate(0.001, 0.001)\n",
    "\n",
    "print(np.round(A.spikes,5))\n",
    "\n",
    "print('\\nExpected output')\n",
    "print('[0.00011]')"
   ],
   "outputs": [
    {
     "name": "stdout",
     "output_type": "stream",
     "text": [
      "[0.00011]\n",
      "\n",
      "Expected output\n",
      "[0.00011]\n"
     ]
    }
   ],
   "execution_count": 8
  },
  {
   "cell_type": "markdown",
   "metadata": {},
   "source": "# Two LIF Neurons"
  },
  {
   "cell_type": "markdown",
   "metadata": {},
   "source": [
    "Build the network with two LIFNeurons $A$ and $B$, each projecting its output to the other. That is, $neuron A$ is connected to $neuron B$ with a weight of 0.05, and $B$ is connected to $A$ with a weight of 0.05. Set the refractory period for $A$ and $B$ to 8 ms (ie. Tau_ref=0.008).\n",
    "\n",
    "Add an input neuron, called $InA$, and connect it to $neuron A$ with a weight of 0.2. Have $neuron InA$ fire at 60 Hz for 0.1\n",
    "seconds at the start, and then go silent. You can create that input neuron using\n",
    "\n",
    "InA = InputNeuron(generate_spike_train([[0,60], [0.1,0]]))\n",
    "\n",
    "Add another input neuron, called $InB$, that connects to $neuron B$. $Neuron InB$ should be silent, except fire at 80 Hz starting at 1.5 s and ending at 1.6 s. Connect $InB$ to $neuron B$ with a weight of -0.5."
   ]
  },
  {
   "cell_type": "code",
   "metadata": {
    "ExecuteTime": {
     "end_time": "2024-05-09T20:18:47.612631Z",
     "start_time": "2024-05-09T20:18:47.610052Z"
    }
   },
   "source": [
    "# Build and simulate the network\n",
    "net = SpikingNetwork()\n",
    "\n",
    "# Create LIFNeurons A and B\n",
    "A = LIFNeuron(Tau_m=0.02, Tau_ref=0.008, Tau_s=0.05)\n",
    "B = LIFNeuron(Tau_m=0.02, Tau_ref=0.008, Tau_s=0.05)\n",
    "\n",
    "# Create input neuron InA with spike train\n",
    "spike_train_InA = generate_spike_train([[0, 60], [0.1, 0]])\n",
    "InA = InputNeuron(spike_train_InA)\n",
    "\n",
    "# Create input neuron InB with spike train\n",
    "spike_train_InB = generate_spike_train([[0, 0], [1.5, 80], [1.6, 0]])\n",
    "InB = InputNeuron(spike_train_InB)\n",
    "\n",
    "# Connect neurons as described\n",
    "A.connect_to(B, 0.05)\n",
    "B.connect_to(A, 0.05)\n",
    "InA.connect_to(A, 0.2)\n",
    "InB.connect_to(B, -0.5)\n",
    "\n",
    "# Add neurons to the network\n",
    "net.add_neuron(A)\n",
    "net.add_neuron(B)\n",
    "net.add_neuron(InA)\n",
    "net.add_neuron(InB)\n",
    "#==============\n"
   ],
   "outputs": [],
   "execution_count": 9
  },
  {
   "cell_type": "markdown",
   "metadata": {},
   "source": "Simulate the network for 2 seconds, and produce a spike-raster plot for the four neurons in the network."
  },
  {
   "cell_type": "code",
   "metadata": {
    "scrolled": false,
    "ExecuteTime": {
     "end_time": "2024-05-09T20:18:47.741246Z",
     "start_time": "2024-05-09T20:18:47.614443Z"
    }
   },
   "source": [
    "# Simulate the network for 2 seconds with a time step of 1 ms\n",
    "net.simulate(2.0, 0.001)\n",
    "\n",
    "# Plot spike raster\n",
    "net.spike_raster()\n",
    "plt.xlabel('Time (s)')\n",
    "plt.ylabel('Neuron Index')\n",
    "plt.title('Spike Raster Plot for the Network')\n",
    "plt.show()\n",
    "#==============\n"
   ],
   "outputs": [
    {
     "data": {
      "text/plain": [
       "<Figure size 640x480 with 1 Axes>"
      ],
      "image/png": "[encoded data removed]"
     },
     "metadata": {},
     "output_type": "display_data"
    }
   ],
   "execution_count": 10
  },
  {
   "cell_type": "markdown",
   "metadata": {},
   "source": "# Ring Oscillator"
  },
  {
   "cell_type": "markdown",
   "metadata": {},
   "source": "Create a network with $n$ LIF neurons; for the sake of this question, let’s label them $N_0$ through $N_n−1$. For all n neurons, use $Tau_m = 100$ ms, and $Tau_s = 200$ ms. Connect $N_0$ to $N_1$ with a weight of $0.4$. Likewise, connect $N_1$ to $N_2$ with a weight of $0.4$, etc., until we finally close the loop by connecting $N_n−1$ to $N_0$ with a weight of $0.4$. This is the excitatory ring."
  },
  {
   "cell_type": "code",
   "metadata": {
    "ExecuteTime": {
     "end_time": "2024-05-09T20:18:47.744906Z",
     "start_time": "2024-05-09T20:18:47.742043Z"
    }
   },
   "source": [
    "# Function to create a network with n LIF neurons and an excitatory ring\n",
    "def create_ring_oscillator(n):\n",
    "    net = SpikingNetwork()\n",
    "    neurons = []\n",
    "\n",
    "    for i in range(n):\n",
    "        neuron = LIFNeuron(Tau_m=0.1, Tau_s=0.2, label=f'N{i}')\n",
    "        neurons.append(neuron)\n",
    "        net.add_neuron(neuron)\n",
    "\n",
    "    for i in range(n):\n",
    "        neurons[i].connect_to(neurons[(i + 1) % n], 0.4)\n",
    "        \n",
    "    return net\n",
    "    \n",
    "#=============="
   ],
   "outputs": [],
   "execution_count": 11
  },
  {
   "cell_type": "markdown",
   "metadata": {},
   "source": "Add inhibitory connections between the same pairs of neurons, but running in the opposite direction around the ring. That is, connect $N_1$ to $N_0$ with a weight of $-0.8$, and $N_0$ to $N_n−1$ with a weight of $-0.8$, etc. This is the inhibitory ring."
  },
  {
   "cell_type": "code",
   "metadata": {
    "ExecuteTime": {
     "end_time": "2024-05-09T20:18:47.748255Z",
     "start_time": "2024-05-09T20:18:47.745509Z"
    }
   },
   "source": [
    "# Function to create a network with n LIF neurons and an excitatory ring\n",
    "def create_ring_oscillator(n):\n",
    "    net = SpikingNetwork()\n",
    "    neurons = []\n",
    "\n",
    "    for i in range(n):\n",
    "        neuron = LIFNeuron(Tau_m=0.1, Tau_s=0.2, label=f'N{i}')\n",
    "        neurons.append(neuron)\n",
    "        net.add_neuron(neuron)\n",
    "\n",
    "    for i in range(n):\n",
    "        neurons[i].connect_to(neurons[(i + 1) % n], 0.4)\n",
    "    \n",
    "    for i in range(n):\n",
    "        neurons[i].connect_to(neurons[(i - 1) % n], -0.8)\n",
    "    \n",
    "    return net\n",
    "\n",
    "#=============="
   ],
   "outputs": [],
   "execution_count": 12
  },
  {
   "cell_type": "markdown",
   "metadata": {},
   "source": "Add an input neuron to stimulate any one of the ring neurons (with a weight of $0.2$). This input neuron should have a firing rate of $25$ Hz for the first $0.3$ seconds, and then go dormant."
  },
  {
   "cell_type": "code",
   "metadata": {
    "ExecuteTime": {
     "end_time": "2024-05-09T20:18:47.751620Z",
     "start_time": "2024-05-09T20:18:47.748803Z"
    }
   },
   "source": [
    "# Function to create a network with n LIF neurons and an excitatory ring\n",
    "def create_ring_oscillator(n, neuron_ind):\n",
    "    net = SpikingNetwork()\n",
    "    neurons = []\n",
    "\n",
    "    for i in range(n):\n",
    "        neuron = LIFNeuron(Tau_m=0.1, Tau_s=0.2, label=f'N{i}')\n",
    "        neurons.append(neuron)\n",
    "        net.add_neuron(neuron)\n",
    "\n",
    "    for i in range(n):\n",
    "        neurons[i].connect_to(neurons[(i + 1) % n], 0.4)\n",
    "    \n",
    "    for i in range(n):\n",
    "        neurons[i].connect_to(neurons[(i - 1) % n], -0.8)\n",
    "    \n",
    "    input_neuron = InputNeuron(generate_spike_train([[0, 25], [0.3, 0]]))\n",
    "    input_neuron.connect_to(neurons[neuron_ind], 0.2)\n",
    "    net.add_neuron(input_neuron)\n",
    "    \n",
    "    return net\n",
    "\n",
    "#=============="
   ],
   "outputs": [],
   "execution_count": 13
  },
  {
   "cell_type": "markdown",
   "metadata": {},
   "source": "Simulate the network for $4$ seconds, and produce a spike-raster plot of all the neurons in the network. We see all the neurons in the ring exhibit a “burst” of spikes in sequence. This excitation travels like a wave around the ring."
  },
  {
   "cell_type": "code",
   "metadata": {
    "ExecuteTime": {
     "end_time": "2024-05-09T20:18:47.886581Z",
     "start_time": "2024-05-09T20:18:47.752190Z"
    }
   },
   "source": [
    "# Simulate the network for 4 seconds with a time step of 1 ms\n",
    "net = create_ring_oscillator(7, 2)\n",
    "net.simulate(4.0, 0.001)\n",
    "\n",
    "# Plot spike raster\n",
    "net.spike_raster()\n",
    "plt.xlabel('Time (s)')\n",
    "plt.ylabel('Neuron Index')\n",
    "plt.title('Spike Raster Plot for the Network')\n",
    "plt.show()\n",
    "\n",
    "# For the wave of activity to go around the ring, let's consider Neuron #2\n",
    "# List spike_time of Neuron #2\n",
    "spike_times_N2 = net.neur[2].spikes\n",
    "\n",
    "# Calculate time differences between non-consecutive spikes\n",
    "period_estimates_1 = np.diff(spike_times_N2[::2])\n",
    "period_estimates_2 = np.diff(spike_times_N2[1::2])\n",
    "\n",
    "# Estimate the period as the average of time differences\n",
    "period_estimates = np.concatenate((period_estimates_1,period_estimates_2), axis=0)\n",
    "estimated_period = np.mean(period_estimates)\n",
    "\n",
    "print(f'The period of the oscillator is {estimated_period} seconds')  # adjust this line\n",
    "#=============="
   ],
   "outputs": [
    {
     "data": {
      "text/plain": [
       "<Figure size 640x480 with 1 Axes>"
      ],
      "image/png": "[encoded data removed]"
     },
     "metadata": {},
     "output_type": "display_data"
    },
    {
     "name": "stdout",
     "output_type": "stream",
     "text": [
      "The period of the oscillator is 0.7326879390617174 seconds\n"
     ]
    }
   ],
   "execution_count": 14
  }
 ],
 "metadata": {
  "kernelspec": {
   "display_name": "Python 3 (ipykernel)",
   "language": "python",
   "name": "python3"
  },
  "language_info": {
   "codemirror_mode": {
    "name": "ipython",
    "version": 3
   },
   "file_extension": ".py",
   "mimetype": "text/x-python",
   "name": "python",
   "nbconvert_exporter": "python",
   "pygments_lexer": "ipython3",
   "version": "3.10.12"
  },
  "varInspector": {
   "cols": {
    "lenName": 16,
    "lenType": 16,
    "lenVar": 40
   },
   "kernels_config": {
    "python": {
     "delete_cmd_postfix": "",
     "delete_cmd_prefix": "del ",
     "library": "var_list.py",
     "varRefreshCmd": "print(var_dic_list())"
    },
    "r": {
     "delete_cmd_postfix": ") ",
     "delete_cmd_prefix": "rm(",
     "library": "var_list.r",
     "varRefreshCmd": "cat(var_dic_list()) "
    }
   },
   "types_to_exclude": [
    "module",
    "function",
    "builtin_function_or_method",
    "instance",
    "_Feature"
   ],
   "window_display": false
  }
 },
 "nbformat": 4,
 "nbformat_minor": 4
}
